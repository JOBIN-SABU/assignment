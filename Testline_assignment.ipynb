{
 "cells": [
  {
   "cell_type": "code",
   "execution_count": 23,
   "id": "a9123a7b",
   "metadata": {},
   "outputs": [
    {
     "name": "stdout",
     "output_type": "stream",
     "text": [
      "       id                                        description\n",
      "0    1827  The tissue which has free surface that faces e...\n",
      "1    1828  Epithelial tissue is distinguished from connec...\n",
      "2    1829  The ciliated columnar epithelial cells in huma...\n",
      "3    1830                The squamous epithelium is found in\n",
      "4    1831  The kind of epithelium which forms the inner w...\n",
      "..    ...                                                ...\n",
      "115  1959  Many years old 'mummies' still have their arte...\n",
      "116  1960  Bone is a solid, rigid connective tissue. If t...\n",
      "117  1961  Neurons which connect the central nervous syst...\n",
      "118  1962        Which type of neuron dominates in the CNS ?\n",
      "119  1963  Mark the connective tissue which is without fi...\n",
      "\n",
      "[120 rows x 2 columns]\n"
     ]
    }
   ],
   "source": [
    "import pandas as pd\n",
    "import requests\n",
    "\n",
    "# Load the quiz JSON file\n",
    "response1 = requests.get(\"https://www.jsonkeeper.com/b/LLQT\")\n",
    "quiz_data = response1.json()\n",
    "\n",
    "\n",
    "\n",
    "# Normalize the JSON data into a DataFrame, accessing nested 'questions' within 'quiz'\n",
    "quiz_endpoint = pd.json_normalize(quiz_data, record_path=[\"quiz\", \"questions\"])\n",
    "\n",
    "# Load the quiz submission JSON file\n",
    "response2 = requests.get(\"https://api.jsonserve.com/rJvd7g\")\n",
    "submission_data = response2.json()\n",
    "\n",
    "# Extract the response map\n",
    "response_map = submission_data[\"response_map\"]\n",
    "\n",
    "# Process wrong and unattempted questions\n",
    "wrong_or_unattempted = []\n",
    "\n",
    "for _, row in quiz_endpoint.iterrows():\n",
    "    question_id = str(row[\"id\"])\n",
    "    correct_option_id = next(option[\"id\"] for option in row[\"options\"] if option[\"is_correct\"])\n",
    "\n",
    "    if question_id in response_map:\n",
    "        selected_option_id = response_map[question_id]\n",
    "        if selected_option_id != correct_option_id:\n",
    "            wrong_or_unattempted.append({\"id\": question_id, \"description\": row[\"description\"]})\n",
    "    else:\n",
    "        wrong_or_unattempted.append({\"id\": question_id, \"description\": row[\"description\"]})\n",
    "\n",
    "# Convert results to a DataFrame\n",
    "result_df = pd.DataFrame(wrong_or_unattempted)\n",
    "\n",
    "# Display results\n",
    "print(result_df)\n",
    "#here I have used request module and json to import file to this environment\n",
    "\n"
   ]
  },
  {
   "cell_type": "code",
   "execution_count": 24,
   "id": "65aa1555",
   "metadata": {},
   "outputs": [
    {
     "name": "stdout",
     "output_type": "stream",
     "text": [
      "Enter incorrect question IDs separated by commas: 1862,1878\n",
      "Manually Marked Incorrect Responses:\n",
      "Question ID: 1862, Description: The secretions of endocrine glands are released directly\n",
      "Question ID: 1878, Description: Vasa efferentia in male frog, enter the kidney and open into\n"
     ]
    }
   ],
   "source": [
    "# List to store incorrect responses\n",
    "incorrect_responses = []\n",
    "\n",
    "# Get input for incorrect question IDs\n",
    "manual_incorrect_ids = input(\"Enter incorrect question IDs separated by commas: \").split(',')\n",
    "\n",
    "# Iterate over questions and match with manual input\n",
    "for _, row in quiz_endpoint.iterrows():\n",
    "    question_id = str(row[\"id\"])  \n",
    "    if question_id in manual_incorrect_ids:\n",
    "        incorrect_responses.append({\n",
    "            \"question_id\": question_id,\n",
    "            \"description\": row[\"description\"]\n",
    "        })\n",
    "\n",
    "# Output incorrect responses\n",
    "print(\"Manually Marked Incorrect Responses:\")\n",
    "for response in incorrect_responses:\n",
    "    print(f\"Question ID: {response['question_id']}, Description: {response['description']}\")\n",
    "    #Due to some error I had to manually Input the Incorrect answers ."
   ]
  },
  {
   "cell_type": "markdown",
   "id": "bd2fb73f",
   "metadata": {},
   "source": []
  },
  {
   "cell_type": "code",
   "execution_count": 25,
   "id": "1da2c38c",
   "metadata": {},
   "outputs": [
    {
     "name": "stdout",
     "output_type": "stream",
     "text": [
      "Unattempted Questions:\n",
      "       id                                        description\n",
      "0    1827  The tissue which has free surface that faces e...\n",
      "1    1828  Epithelial tissue is distinguished from connec...\n",
      "2    1829  The ciliated columnar epithelial cells in huma...\n",
      "3    1830                The squamous epithelium is found in\n",
      "4    1831  The kind of epithelium which forms the inner w...\n",
      "..    ...                                                ...\n",
      "122  1959  Many years old 'mummies' still have their arte...\n",
      "123  1960  Bone is a solid, rigid connective tissue. If t...\n",
      "124  1961  Neurons which connect the central nervous syst...\n",
      "125  1962        Which type of neuron dominates in the CNS ?\n",
      "126  1963  Mark the connective tissue which is without fi...\n",
      "\n",
      "[118 rows x 2 columns]\n"
     ]
    }
   ],
   "source": [
    "# Extract all question IDs\n",
    "all_question_ids = set(quiz_endpoint[\"id\"].astype(str))\n",
    "\n",
    "# Extract question IDs from response_map\n",
    "attempted_question_ids = set(response_map.keys())\n",
    "\n",
    "# Find unattempted question IDs\n",
    "unattempted_question_ids = all_question_ids - attempted_question_ids\n",
    "\n",
    "# Filter out unattempted questions\n",
    "unattempted_questions = quiz_endpoint[quiz_endpoint[\"id\"].astype(str).isin(unattempted_question_ids)]\n",
    "\n",
    "# Create a DataFrame with unattempted question details\n",
    "unattempted_df = unattempted_questions[[\"id\", \"description\"]]\n",
    "\n",
    "# Output the DataFrame\n",
    "print(\"Unattempted Questions:\")\n",
    "print(unattempted_df)\n",
    "#Here with this I find out Unattempted question in order to find out which concepts are the weakest for the students"
   ]
  },
  {
   "cell_type": "code",
   "execution_count": 26,
   "id": "d1483437",
   "metadata": {},
   "outputs": [
    {
     "name": "stdout",
     "output_type": "stream",
     "text": [
      "[None]\n"
     ]
    }
   ],
   "source": [
    "import pandas as pd\n",
    "\n",
    "# Extract unique difficulty levels\n",
    "difficulty_levels = quiz_endpoint[\"difficulty_level\"].unique()\n",
    "print(difficulty_levels)"
   ]
  },
  {
   "cell_type": "code",
   "execution_count": 27,
   "id": "fbc184e3",
   "metadata": {},
   "outputs": [
    {
     "name": "stdout",
     "output_type": "stream",
     "text": [
      " 1st focus on this ,if there is so much of time , it needs more focus \n",
      "       id                                        description\n",
      "0    1827  The tissue which has free surface that faces e...\n",
      "1    1828  Epithelial tissue is distinguished from connec...\n",
      "2    1829  The ciliated columnar epithelial cells in huma...\n",
      "3    1830                The squamous epithelium is found in\n",
      "4    1831  The kind of epithelium which forms the inner w...\n",
      "..    ...                                                ...\n",
      "122  1959  Many years old 'mummies' still have their arte...\n",
      "123  1960  Bone is a solid, rigid connective tissue. If t...\n",
      "124  1961  Neurons which connect the central nervous syst...\n",
      "125  1962        Which type of neuron dominates in the CNS ?\n",
      "126  1963  Mark the connective tissue which is without fi...\n",
      "\n",
      "[118 rows x 2 columns]\n",
      "You attempted these topics wrong so either you werent focused and or just guessed the answer so attempt some practise question from these topic and see how good you are at it\n",
      "1862, Description: The secretions of endocrine glands are released directly\n",
      "1878, Description: Vasa efferentia in male frog, enter the kidney and open into\n"
     ]
    }
   ],
   "source": [
    "print(\" 1st focus on this ,if there is so much of time , it needs more focus \")\n",
    "print(unattempted_df)\n",
    "print(\"You attempted these topics wrong so either you werent focused and or just guessed the answer so attempt some practise question from these topic and see how good you are at it\")\n",
    "for response in incorrect_responses:\n",
    "    print(f\"{response['question_id']}, Description: {response['description']}\")\n",
    "    #here this code gives the insight for the present test"
   ]
  },
  {
   "cell_type": "code",
   "execution_count": 28,
   "id": "53afc5cf",
   "metadata": {},
   "outputs": [
    {
     "name": "stdout",
     "output_type": "stream",
     "text": [
      "                                 topic  total_questions  attempted  correct  \\\n",
      "0  structural organisation in animals               128          0        8   \n",
      "\n",
      "   accuracy  \n",
      "0      6.25  \n",
      "\n",
      "Weak Areas:\n",
      "                                 topic  total_questions  attempted  correct  \\\n",
      "0  structural organisation in animals               128          0        8   \n",
      "\n",
      "   accuracy  \n",
      "0      6.25  \n"
     ]
    }
   ],
   "source": [
    "quiz_endpoint[\"topic\"] = quiz_endpoint.get(\"topic\", \"Unknown\")\n",
    "\n",
    "# DataFrame to hold topic-wise analysis\n",
    "topic_analysis = []\n",
    "\n",
    "# Group questions by topic\n",
    "topics = quiz_endpoint.groupby(\"topic\")\n",
    "\n",
    "for topic, group in topics:\n",
    "    total_questions = len(group)  # Total questions in the topic\n",
    "    attempted = group[\"id\"].isin(response_map.keys()).sum()  # Count of attempted questions\n",
    "    correct = group.apply(\n",
    "        lambda row: any(option[\"is_correct\"] for option in row[\"options\"] if str(option[\"id\"]) == str(response_map.get(str(row[\"id\"])))), \n",
    "        axis=1\n",
    "    ).sum()  # Correct responses\n",
    "    \n",
    "    # Add to analysis\n",
    "    topic_analysis.append({\n",
    "        \"topic\": topic,\n",
    "        \"total_questions\": total_questions,\n",
    "        \"attempted\": attempted,\n",
    "        \"correct\": correct,\n",
    "        \"accuracy\": (correct / total_questions) * 100 if total_questions > 0 else 0\n",
    "    })\n",
    "\n",
    "# Convert to DataFrame for better visualization\n",
    "topic_analysis_df = pd.DataFrame(topic_analysis)\n",
    "\n",
    "# Sort by accuracy (ascending order to highlight weak areas)\n",
    "topic_analysis_df.sort_values(by=\"accuracy\", inplace=True)\n",
    "\n",
    "# Output the topic analysis\n",
    "print(topic_analysis_df)\n",
    "\n",
    "# Highlight weak areas (e.g., accuracy < 50%)\n",
    "weak_areas = topic_analysis_df[topic_analysis_df[\"accuracy\"] < 50]\n",
    "print(\"\\nWeak Areas:\")\n",
    "print(weak_areas)\n",
    "#this code output the weakest area of the student based on current test"
   ]
  },
  {
   "cell_type": "code",
   "execution_count": 29,
   "id": "b287fc72",
   "metadata": {},
   "outputs": [
    {
     "data": {
      "image/png": "[encoded data removed]",
      "text/plain": [
       "<Figure size 720x432 with 1 Axes>"
      ]
     },
     "metadata": {
      "needs_background": "light"
     },
     "output_type": "display_data"
    },
    {
     "data": {
      "image/png": "[encoded data removed]",
      "text/plain": [
       "<Figure size 864x576 with 1 Axes>"
      ]
     },
     "metadata": {
      "needs_background": "light"
     },
     "output_type": "display_data"
    }
   ],
   "source": [
    "import matplotlib.pyplot as plt\n",
    "import seaborn as sns\n",
    "\n",
    "# Bar plot for topic-wise accuracy\n",
    "plt.figure(figsize=(10, 6))\n",
    "sns.barplot(x=\"accuracy\", y=\"topic\", data=topic_analysis_df, palette=\"coolwarm\")\n",
    "plt.title(\"Topic-Wise Accuracy\", fontsize=16)\n",
    "plt.xlabel(\"Accuracy (%)\", fontsize=14)\n",
    "plt.ylabel(\"Topic\", fontsize=14)\n",
    "plt.grid(axis=\"x\", linestyle=\"--\", alpha=0.6)\n",
    "plt.show()\n",
    "\n",
    "# Stacked bar plot: Total, Attempted, and Correct\n",
    "topic_analysis_df_melted = topic_analysis_df.melt(\n",
    "    id_vars=[\"topic\"],\n",
    "    value_vars=[\"total_questions\", \"attempted\", \"correct\"],\n",
    "    var_name=\"Metric\",\n",
    "    value_name=\"Count\"\n",
    ")\n",
    "\n",
    "plt.figure(figsize=(12, 8))\n",
    "sns.barplot(x=\"Count\", y=\"topic\", hue=\"Metric\", data=topic_analysis_df_melted, palette=\"Set2\")\n",
    "plt.title(\"Topic-Wise Performance Breakdown\", fontsize=16)\n",
    "plt.xlabel(\"Count\", fontsize=14)\n",
    "plt.ylabel(\"Topic\", fontsize=14)\n",
    "plt.legend(title=\"Metrics\")\n",
    "plt.grid(axis=\"x\", linestyle=\"--\", alpha=0.6)\n",
    "plt.show()\n",
    "#Just a visualization on the insight for current test"
   ]
  },
  {
   "cell_type": "code",
   "execution_count": 47,
   "id": "c88ae67d",
   "metadata": {},
   "outputs": [
    {
     "name": "stdout",
     "output_type": "stream",
     "text": [
      "        id  quiz_id                       user_id  \\\n",
      "0   336497       51  YcDFSO4ZukTJnnFMgRNVwZTE4j42   \n",
      "1   336448        6  YcDFSO4ZukTJnnFMgRNVwZTE4j42   \n",
      "2   333330       51  YcDFSO4ZukTJnnFMgRNVwZTE4j42   \n",
      "3   333242        6  YcDFSO4ZukTJnnFMgRNVwZTE4j42   \n",
      "4   329504       51  YcDFSO4ZukTJnnFMgRNVwZTE4j42   \n",
      "5   328488       57  YcDFSO4ZukTJnnFMgRNVwZTE4j42   \n",
      "6   328414        6  YcDFSO4ZukTJnnFMgRNVwZTE4j42   \n",
      "7   321514       20  YcDFSO4ZukTJnnFMgRNVwZTE4j42   \n",
      "8   320963       24  YcDFSO4ZukTJnnFMgRNVwZTE4j42   \n",
      "9   320916       18  YcDFSO4ZukTJnnFMgRNVwZTE4j42   \n",
      "10  315179       25  YcDFSO4ZukTJnnFMgRNVwZTE4j42   \n",
      "11  315081       18  YcDFSO4ZukTJnnFMgRNVwZTE4j42   \n",
      "12  257774       58  YcDFSO4ZukTJnnFMgRNVwZTE4j42   \n",
      "13  195808       50  YcDFSO4ZukTJnnFMgRNVwZTE4j42   \n",
      "\n",
      "                     submitted_at                     created_at  \\\n",
      "0   2025-01-17T15:30:18.027+05:30  2025-01-17T15:30:18.044+05:30   \n",
      "1   2025-01-17T15:17:44.042+05:30  2025-01-17T15:17:44.056+05:30   \n",
      "2   2025-01-16T20:13:19.682+05:30  2025-01-16T20:13:19.699+05:30   \n",
      "3   2025-01-16T20:00:11.562+05:30  2025-01-16T20:00:11.573+05:30   \n",
      "4   2025-01-15T20:34:39.462+05:30  2025-01-15T20:34:39.478+05:30   \n",
      "5   2025-01-15T15:57:12.791+05:30  2025-01-15T15:57:12.800+05:30   \n",
      "6   2025-01-15T15:36:46.410+05:30  2025-01-15T15:36:46.420+05:30   \n",
      "7   2025-01-13T16:10:03.743+05:30  2025-01-13T16:10:03.753+05:30   \n",
      "8   2025-01-13T13:28:12.784+05:30  2025-01-13T13:28:12.795+05:30   \n",
      "9   2025-01-13T13:12:40.687+05:30  2025-01-13T13:12:40.695+05:30   \n",
      "10  2025-01-11T21:20:08.641+05:30  2025-01-11T21:20:08.652+05:30   \n",
      "11  2025-01-11T21:03:43.251+05:30  2025-01-11T21:03:43.262+05:30   \n",
      "12  2024-12-28T22:58:52.969+05:30  2024-12-28T22:58:53.122+05:30   \n",
      "13  2024-12-11T20:36:44.822+05:30  2024-12-11T20:36:44.863+05:30   \n",
      "\n",
      "                       updated_at  score  trophy_level accuracy speed  ...  \\\n",
      "0   2025-01-17T15:30:18.044+05:30    108             2     90 %   100  ...   \n",
      "1   2025-01-17T15:17:44.056+05:30     92             1    100 %   100  ...   \n",
      "2   2025-01-16T20:13:19.699+05:30    116             2     96 %   100  ...   \n",
      "3   2025-01-16T20:00:11.573+05:30     36             2     90 %   100  ...   \n",
      "4   2025-01-15T20:34:39.478+05:30     36             3     31 %    96  ...   \n",
      "5   2025-01-15T15:57:12.800+05:30     40             3     38 %    86  ...   \n",
      "6   2025-01-15T15:36:46.420+05:30     36             3     50 %    78  ...   \n",
      "7   2025-01-13T16:10:03.753+05:30     12             2     30 %   100  ...   \n",
      "8   2025-01-13T13:28:12.795+05:30     76             2    100 %    95  ...   \n",
      "9   2025-01-13T13:12:40.695+05:30     40             1    100 %   100  ...   \n",
      "10  2025-01-11T21:20:08.652+05:30    112             2     93 %   100  ...   \n",
      "11  2025-01-11T21:03:43.262+05:30     64             3     84 %    86  ...   \n",
      "12  2024-12-28T22:58:53.122+05:30     52             2     43 %   100  ...   \n",
      "13  2024-12-11T20:36:44.863+05:30     24             3     66 %    90  ...   \n",
      "\n",
      "   response_map.3194 response_map.2417  response_map.2425  response_map.2435  \\\n",
      "0                NaN               NaN                NaN                NaN   \n",
      "1                NaN               NaN                NaN                NaN   \n",
      "2                NaN               NaN                NaN                NaN   \n",
      "3                NaN               NaN                NaN                NaN   \n",
      "4                NaN               NaN                NaN                NaN   \n",
      "5                NaN               NaN                NaN                NaN   \n",
      "6                NaN               NaN                NaN                NaN   \n",
      "7                NaN               NaN                NaN                NaN   \n",
      "8                NaN               NaN                NaN                NaN   \n",
      "9                NaN               NaN                NaN                NaN   \n",
      "10               NaN               NaN                NaN                NaN   \n",
      "11               NaN               NaN                NaN                NaN   \n",
      "12           12787.0               NaN                NaN                NaN   \n",
      "13               NaN            9684.0             9715.0             9754.0   \n",
      "\n",
      "   response_map.2440 response_map.2444 response_map.2452 response_map.2459  \\\n",
      "0                NaN               NaN               NaN               NaN   \n",
      "1                NaN               NaN               NaN               NaN   \n",
      "2                NaN               NaN               NaN               NaN   \n",
      "3                NaN               NaN               NaN               NaN   \n",
      "4                NaN               NaN               NaN               NaN   \n",
      "5                NaN               NaN               NaN               NaN   \n",
      "6                NaN               NaN               NaN               NaN   \n",
      "7                NaN               NaN               NaN               NaN   \n",
      "8                NaN               NaN               NaN               NaN   \n",
      "9                NaN               NaN               NaN               NaN   \n",
      "10               NaN               NaN               NaN               NaN   \n",
      "11               NaN               NaN               NaN               NaN   \n",
      "12               NaN               NaN               NaN               NaN   \n",
      "13            9776.0            9793.0            9824.0            9852.0   \n",
      "\n",
      "   response_map.2469  response_map.2515  \n",
      "0                NaN                NaN  \n",
      "1                NaN                NaN  \n",
      "2                NaN                NaN  \n",
      "3                NaN                NaN  \n",
      "4                NaN                NaN  \n",
      "5                NaN                NaN  \n",
      "6                NaN                NaN  \n",
      "7                NaN                NaN  \n",
      "8                NaN                NaN  \n",
      "9                NaN                NaN  \n",
      "10               NaN                NaN  \n",
      "11               NaN                NaN  \n",
      "12               NaN                NaN  \n",
      "13            9890.0            10075.0  \n",
      "\n",
      "[14 rows x 287 columns]\n"
     ]
    }
   ],
   "source": [
    "# Load the historical data JSON file\n",
    "response3 = requests.get(\"https://api.jsonserve.com/XgAgFJ\")\n",
    "historical_data = response3.json()\n",
    "\n",
    "# Normalize the JSON data into a DataFrame\n",
    "historical_df = pd.json_normalize(historical_data)\n",
    "\n",
    "# Display the historical data\n",
    "print(historical_df)\n",
    "#importing json  file of history data to this environment"
   ]
  },
  {
   "cell_type": "code",
   "execution_count": 48,
   "id": "16d1447e",
   "metadata": {},
   "outputs": [
    {
     "name": "stdout",
     "output_type": "stream",
     "text": [
      "Number of unique students: 1\n",
      "Unique student IDs:\n",
      "['YcDFSO4ZukTJnnFMgRNVwZTE4j42']\n"
     ]
    }
   ],
   "source": [
    "# Find unique students\n",
    "unique_students = historical_df['user_id'].unique()\n",
    "num_students = len(unique_students)\n",
    "\n",
    "# Display the number of unique students\n",
    "print(f\"Number of unique students: {num_students}\")\n",
    "print(\"Unique student IDs:\")\n",
    "print(unique_students)\n"
   ]
  },
  {
   "cell_type": "code",
   "execution_count": 49,
   "id": "e99004bf",
   "metadata": {},
   "outputs": [
    {
     "name": "stdout",
     "output_type": "stream",
     "text": [
      "                       submitted_at accuracy  \\\n",
      "13 2024-12-11 20:36:44.822000+05:30     66 %   \n",
      "12 2024-12-28 22:58:52.969000+05:30     43 %   \n",
      "11 2025-01-11 21:03:43.251000+05:30     84 %   \n",
      "10 2025-01-11 21:20:08.641000+05:30     93 %   \n",
      "9  2025-01-13 13:12:40.687000+05:30    100 %   \n",
      "8  2025-01-13 13:28:12.784000+05:30    100 %   \n",
      "7  2025-01-13 16:10:03.743000+05:30     30 %   \n",
      "6  2025-01-15 15:36:46.410000+05:30     50 %   \n",
      "5  2025-01-15 15:57:12.791000+05:30     38 %   \n",
      "4  2025-01-15 20:34:39.462000+05:30     31 %   \n",
      "3  2025-01-16 20:00:11.562000+05:30     90 %   \n",
      "2  2025-01-16 20:13:19.682000+05:30     96 %   \n",
      "1  2025-01-17 15:17:44.042000+05:30    100 %   \n",
      "0  2025-01-17 15:30:18.027000+05:30     90 %   \n",
      "\n",
      "                                     quiz.title  \n",
      "13                        Human Physiology (14)  \n",
      "12                                 Reproduction  \n",
      "11                      REPRODUCTIVE HEALTH PYQ  \n",
      "10                 HUMAN HEALTH AND DISEASE PYQ  \n",
      "9                       REPRODUCTIVE HEALTH PYQ  \n",
      "8                MICROBES IN HUMAN WELFARE  PYQ  \n",
      "7   PRINCIPLES OF INHERITANCE AND VARIATION PYQ  \n",
      "6                          Human Physiology PYQ  \n",
      "5                                  Reproduction  \n",
      "4                         Human Physiology (15)  \n",
      "3                          Human Physiology PYQ  \n",
      "2                         Human Physiology (15)  \n",
      "1                          Human Physiology PYQ  \n",
      "0                         Human Physiology (15)  \n"
     ]
    }
   ],
   "source": [
    "# Extract relevant columns for performance analysis\n",
    "# Adjust the column names based on the available columns in the historical data\n",
    "performance_over_time = historical_df[['submitted_at', 'accuracy', 'quiz.title']].copy()\n",
    "\n",
    "# Convert 'submitted_at' to datetime format\n",
    "performance_over_time.loc[:, 'submitted_at'] = pd.to_datetime(performance_over_time['submitted_at'])\n",
    "\n",
    "# Sort the data by 'submitted_at'\n",
    "performance_over_time.sort_values(by='submitted_at', inplace=True)\n",
    "\n",
    "# Display the performance data\n",
    "print(performance_over_time)\n",
    "#since there is only 1 students to compare we are checking its performance over time once\n"
   ]
  },
  {
   "cell_type": "code",
   "execution_count": 50,
   "id": "bdb10e1d",
   "metadata": {},
   "outputs": [
    {
     "data": {
      "image/png": "[encoded data removed]",
      "text/plain": [
       "<Figure size 720x432 with 1 Axes>"
      ]
     },
     "metadata": {
      "needs_background": "light"
     },
     "output_type": "display_data"
    }
   ],
   "source": [
    "# Plot improvement trends\n",
    "plt.figure(figsize=(10, 6))\n",
    "plt.plot(performance_over_time['submitted_at'], performance_over_time['accuracy'], marker='o', label='Accuracy Over Time')\n",
    "plt.xlabel('Date')\n",
    "plt.ylabel('Accuracy (%)')\n",
    "plt.title('Student Performance Improvement Trends')\n",
    "plt.legend()\n",
    "plt.grid(True)\n",
    "plt.show()\n",
    "\n",
    "#performence trend from the last few test"
   ]
  },
  {
   "cell_type": "code",
   "execution_count": 51,
   "id": "5ae94cb8",
   "metadata": {},
   "outputs": [
    {
     "name": "stdout",
     "output_type": "stream",
     "text": [
      "                       submitted_at  accuracy  \\\n",
      "13 2024-12-11 20:36:44.822000+05:30      66.0   \n",
      "12 2024-12-28 22:58:52.969000+05:30      43.0   \n",
      "11 2025-01-11 21:03:43.251000+05:30      84.0   \n",
      "10 2025-01-11 21:20:08.641000+05:30      93.0   \n",
      "9  2025-01-13 13:12:40.687000+05:30     100.0   \n",
      "8  2025-01-13 13:28:12.784000+05:30     100.0   \n",
      "7  2025-01-13 16:10:03.743000+05:30      30.0   \n",
      "6  2025-01-15 15:36:46.410000+05:30      50.0   \n",
      "5  2025-01-15 15:57:12.791000+05:30      38.0   \n",
      "4  2025-01-15 20:34:39.462000+05:30      31.0   \n",
      "3  2025-01-16 20:00:11.562000+05:30      90.0   \n",
      "2  2025-01-16 20:13:19.682000+05:30      96.0   \n",
      "1  2025-01-17 15:17:44.042000+05:30     100.0   \n",
      "0  2025-01-17 15:30:18.027000+05:30      90.0   \n",
      "\n",
      "                                     quiz.title  \n",
      "13                        Human Physiology (14)  \n",
      "12                                 Reproduction  \n",
      "11                      REPRODUCTIVE HEALTH PYQ  \n",
      "10                 HUMAN HEALTH AND DISEASE PYQ  \n",
      "9                       REPRODUCTIVE HEALTH PYQ  \n",
      "8                MICROBES IN HUMAN WELFARE  PYQ  \n",
      "7   PRINCIPLES OF INHERITANCE AND VARIATION PYQ  \n",
      "6                          Human Physiology PYQ  \n",
      "5                                  Reproduction  \n",
      "4                         Human Physiology (15)  \n",
      "3                          Human Physiology PYQ  \n",
      "2                         Human Physiology (15)  \n",
      "1                          Human Physiology PYQ  \n",
      "0                         Human Physiology (15)  \n"
     ]
    }
   ],
   "source": [
    "# Remove the percentage sign and convert to float\n",
    "performance_over_time['accuracy'] = performance_over_time['accuracy'].str.replace('%', '').astype(float)\n",
    "\n",
    "# Display the cleaned performance data\n",
    "print(performance_over_time)\n",
    "#Just convrted to float for further calculation\n"
   ]
  },
  {
   "cell_type": "code",
   "execution_count": 52,
   "id": "ead6cef6",
   "metadata": {},
   "outputs": [
    {
     "name": "stdout",
     "output_type": "stream",
     "text": [
      "The student has shown significant improvement over time compared to other students.\n"
     ]
    }
   ],
   "source": [
    "# Identify if the student is performing consistently or showing improvement compared to other students\n",
    "consistent_performer = performance_over_time['accuracy'].std() < 10\n",
    "if consistent_performer:\n",
    "    print(\"The student has consistently maintained their performance compared to other students.\")\n",
    "else:\n",
    "    print(\"The student has shown significant improvement over time compared to other students.\")\n"
   ]
  },
  {
   "cell_type": "code",
   "execution_count": 67,
   "id": "1c4e464d",
   "metadata": {},
   "outputs": [
    {
     "name": "stdout",
     "output_type": "stream",
     "text": [
      "Recommendations:\n",
      "Focus on improving your understanding of Human Physiology (15) as your current accuracy (6.25%).\n"
     ]
    }
   ],
   "source": [
    "# Create recommendations based on insights\n",
    "recommendations = []\n",
    "\n",
    "# Suggest topics to focus on (weak areas)\n",
    "for index, row in weak_areas.iterrows():\n",
    "    recommendations.append(f\"Focus on improving your understanding of {historical_df.loc[index, 'quiz.title']} as your current accuracy ({row['accuracy']}%).\")\n",
    "\n",
    "# Output recommendations\n",
    "print(\"Recommendations:\")\n",
    "for recommendation in recommendations:\n",
    "    print(recommendation)\n"
   ]
  },
  {
   "cell_type": "code",
   "execution_count": 68,
   "id": "9ff9222f",
   "metadata": {},
   "outputs": [
    {
     "name": "stdout",
     "output_type": "stream",
     "text": [
      "Student Persona: Undefined Learning Style\n",
      "\n",
      "Strengths:\n",
      "\n",
      "Weaknesses:\n",
      "structural organisation in animals : 6.25% accuracy\n"
     ]
    }
   ],
   "source": [
    "# Analyze response patterns to determine learning style\n",
    "visual_learner = topic_analysis_df[topic_analysis_df['topic'].str.contains('diagram')].shape[0] > 0\n",
    "analytical_learner = topic_analysis_df[topic_analysis_df['topic'].str.contains('data')].shape[0] > 0\n",
    "\n",
    "if visual_learner:\n",
    "    student_persona = \"Visual Learner\"\n",
    "elif analytical_learner:\n",
    "    student_persona = \"Analytical Learner\"\n",
    "else:\n",
    "    student_persona = \"Undefined Learning Style\"\n",
    "\n",
    "# Highlight specific strengths and weaknesses\n",
    "strengths = topic_analysis_df[topic_analysis_df['accuracy'] >= 80]\n",
    "weaknesses = topic_analysis_df[topic_analysis_df['accuracy'] < 50]\n",
    "\n",
    "# Output student persona and insights\n",
    "print(f\"Student Persona: {student_persona}\")\n",
    "print(\"\\nStrengths:\")\n",
    "for index, row in strengths.iterrows():\n",
    "    print(f\"{row['topic']}: {row['accuracy']}% accuracy\")\n",
    "\n",
    "print(\"\\nWeaknesses:\")\n",
    "for index, row in weaknesses.iterrows():\n",
    "    print(f\"{row['topic']}: {row['accuracy']}% accuracy\")\n"
   ]
  },
  {
   "cell_type": "code",
   "execution_count": null,
   "id": "1f8b7d2c",
   "metadata": {},
   "outputs": [],
   "source": []
  }
 ],
 "metadata": {
  "kernelspec": {
   "display_name": "Python 3 (ipykernel)",
   "language": "python",
   "name": "python3"
  },
  "language_info": {
   "codemirror_mode": {
    "name": "ipython",
    "version": 3
   },
   "file_extension": ".py",
   "mimetype": "text/x-python",
   "name": "python",
   "nbconvert_exporter": "python",
   "pygments_lexer": "ipython3",
   "version": "3.9.7"
  }
 },
 "nbformat": 4,
 "nbformat_minor": 5
}
